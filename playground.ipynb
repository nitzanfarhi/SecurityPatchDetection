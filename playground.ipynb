{
 "cells": [
  {
   "cell_type": "code",
   "execution_count": 232,
   "id": "0cfde375-5690-450d-877d-714ef1a07d35",
   "metadata": {},
   "outputs": [],
   "source": [
    "import pandas as pd\n",
    "from io import StringIO\n",
    "import re\n",
    "import os\n",
    "import ast\n",
    "import pandas as pd\n",
    "pd.options.mode.chained_assignment = None  # default='warn'\n",
    "\n",
    "base = \"D://hidden_cve/\"\n",
    "\n",
    "import json\n",
    "with open(f'D:/hidden_cve/rawdata/repo_commits.json', 'r') as fin:\n",
    "    repo_commits = json.load(fin)"
   ]
  },
  {
   "cell_type": "code",
   "execution_count": 138,
   "id": "5434b9f1-9181-47db-bcef-2e73025650e6",
   "metadata": {},
   "outputs": [],
   "source": [
    "filename = os.listdir(base+'graphql')[1634]"
   ]
  },
  {
   "cell_type": "code",
   "execution_count": 178,
   "id": "b31306b0-2acf-472b-98e3-04b8335fe86b",
   "metadata": {},
   "outputs": [
    {
     "name": "stderr",
     "output_type": "stream",
     "text": [
      "C:\\ProgramData\\Anaconda3\\lib\\site-packages\\IPython\\core\\interactiveshell.py:3165: DtypeWarning: Columns (1,2,3,4,5) have mixed types.Specify dtype option on import or set low_memory=False.\n",
      "  has_raised = await self.run_ast_nodes(code_ast.body, cell_name,\n"
     ]
    }
   ],
   "source": [
    "df = pd.read_csv(base+\"graphql/\"+filename)"
   ]
  },
  {
   "cell_type": "code",
   "execution_count": 324,
   "id": "5cd9c180-57cc-4842-ad37-96fe09e6503d",
   "metadata": {},
   "outputs": [],
   "source": []
  },
  {
   "cell_type": "code",
   "execution_count": null,
   "id": "a7e4556e-a0e7-4753-85bd-9601c54ed8e7",
   "metadata": {
    "tags": []
   },
   "outputs": [],
   "source": [
    "dfs = [pd.read_csv(f'D:/repo_data5/{year}.csv') for year in range(2015,2022)]\n",
    "\n",
    "vuln_lst = []\n",
    "for repo,dates in repo_commits.items():\n",
    "    for date in dates:\n",
    "        vuln_lst.append((\"VulnEvent\",repo,date[1]))\n",
    "dfs.append(pd.DataFrame(vuln_lst,columns = dfs[0].columns))\n",
    "\n",
    "df = pd.concat(dfs)\n",
    "repos =df.name.unique()\n",
    "repo_dfs = []\n",
    "for repo in repos:\n",
    "    day_df = pd.DataFrame()\n",
    "    for col in df.type.unique():\n",
    "        cur_type = df[(df.type == col) & (df.name == repo)]\n",
    "        if cur_type.empty:\n",
    "            continue\n",
    "        cur_df = pd.to_datetime(cur_type.created_at)\n",
    "        cur_df = pd.DataFrame(cur_df).set_index('created_at')\n",
    "        cur_df[col]=1\n",
    "        cur_df = cur_df.resample(\"D\").sum()\n",
    "        day_df = day_df.join(cur_df,how='outer')\n",
    "        day_df = day_df.fillna(0)\n",
    "    repo_dfs.append(day_df)\n",
    "    print(day_df)\n",
    "    break"
   ]
  },
  {
   "cell_type": "code",
   "execution_count": null,
   "id": "dac2f4c4-6805-488b-86c3-bde8bd91e5fc",
   "metadata": {},
   "outputs": [],
   "source": [
    "repo_dfs[0]"
   ]
  },
  {
   "cell_type": "code",
   "execution_count": null,
   "id": "09219589-bf70-43d7-b538-44cc2919c42a",
   "metadata": {},
   "outputs": [],
   "source": [
    "repo_dfs[0].plot()"
   ]
  },
  {
   "cell_type": "code",
   "execution_count": 352,
   "id": "6a19c90e-8930-4367-8d50-ac03fe91e0e6",
   "metadata": {},
   "outputs": [
    {
     "ename": "TypeError",
     "evalue": "Cannot join tz-naive with tz-aware DatetimeIndex",
     "output_type": "error",
     "traceback": [
      "\u001b[1;31m---------------------------------------------------------------------------\u001b[0m",
      "\u001b[1;31mTypeError\u001b[0m                                 Traceback (most recent call last)",
      "\u001b[1;32m<ipython-input-352-931b238bd68e>\u001b[0m in \u001b[0;36m<module>\u001b[1;34m\u001b[0m\n\u001b[0;32m      4\u001b[0m \u001b[0mcur_df\u001b[0m\u001b[1;33m[\u001b[0m\u001b[0mcol\u001b[0m\u001b[1;33m]\u001b[0m\u001b[1;33m=\u001b[0m\u001b[1;36m1\u001b[0m\u001b[1;33m\u001b[0m\u001b[1;33m\u001b[0m\u001b[0m\n\u001b[0;32m      5\u001b[0m \u001b[0mcur_df\u001b[0m \u001b[1;33m=\u001b[0m \u001b[0mcur_df\u001b[0m\u001b[1;33m.\u001b[0m\u001b[0mresample\u001b[0m\u001b[1;33m(\u001b[0m\u001b[1;34m\"D\"\u001b[0m\u001b[1;33m)\u001b[0m\u001b[1;33m.\u001b[0m\u001b[0msum\u001b[0m\u001b[1;33m(\u001b[0m\u001b[1;33m)\u001b[0m\u001b[1;33m\u001b[0m\u001b[1;33m\u001b[0m\u001b[0m\n\u001b[1;32m----> 6\u001b[1;33m \u001b[0mday_df\u001b[0m \u001b[1;33m=\u001b[0m \u001b[0mday_df\u001b[0m\u001b[1;33m.\u001b[0m\u001b[0mjoin\u001b[0m\u001b[1;33m(\u001b[0m\u001b[0mcur_df\u001b[0m\u001b[1;33m,\u001b[0m\u001b[0mhow\u001b[0m\u001b[1;33m=\u001b[0m\u001b[1;34m'outer'\u001b[0m\u001b[1;33m)\u001b[0m\u001b[1;33m\u001b[0m\u001b[1;33m\u001b[0m\u001b[0m\n\u001b[0m\u001b[0;32m      7\u001b[0m \u001b[0mday_df\u001b[0m \u001b[1;33m=\u001b[0m \u001b[0mday_df\u001b[0m\u001b[1;33m.\u001b[0m\u001b[0mfillna\u001b[0m\u001b[1;33m(\u001b[0m\u001b[1;36m0\u001b[0m\u001b[1;33m)\u001b[0m\u001b[1;33m\u001b[0m\u001b[1;33m\u001b[0m\u001b[0m\n",
      "\u001b[1;32mC:\\ProgramData\\Anaconda3\\lib\\site-packages\\pandas\\core\\frame.py\u001b[0m in \u001b[0;36mjoin\u001b[1;34m(self, other, on, how, lsuffix, rsuffix, sort)\u001b[0m\n\u001b[0;32m   8108\u001b[0m         \u001b[1;36m5\u001b[0m  \u001b[0mK5\u001b[0m  \u001b[0mA5\u001b[0m  \u001b[0mNaN\u001b[0m\u001b[1;33m\u001b[0m\u001b[1;33m\u001b[0m\u001b[0m\n\u001b[0;32m   8109\u001b[0m         \"\"\"\n\u001b[1;32m-> 8110\u001b[1;33m         return self._join_compat(\n\u001b[0m\u001b[0;32m   8111\u001b[0m             \u001b[0mother\u001b[0m\u001b[1;33m,\u001b[0m \u001b[0mon\u001b[0m\u001b[1;33m=\u001b[0m\u001b[0mon\u001b[0m\u001b[1;33m,\u001b[0m \u001b[0mhow\u001b[0m\u001b[1;33m=\u001b[0m\u001b[0mhow\u001b[0m\u001b[1;33m,\u001b[0m \u001b[0mlsuffix\u001b[0m\u001b[1;33m=\u001b[0m\u001b[0mlsuffix\u001b[0m\u001b[1;33m,\u001b[0m \u001b[0mrsuffix\u001b[0m\u001b[1;33m=\u001b[0m\u001b[0mrsuffix\u001b[0m\u001b[1;33m,\u001b[0m \u001b[0msort\u001b[0m\u001b[1;33m=\u001b[0m\u001b[0msort\u001b[0m\u001b[1;33m\u001b[0m\u001b[1;33m\u001b[0m\u001b[0m\n\u001b[0;32m   8112\u001b[0m         )\n",
      "\u001b[1;32mC:\\ProgramData\\Anaconda3\\lib\\site-packages\\pandas\\core\\frame.py\u001b[0m in \u001b[0;36m_join_compat\u001b[1;34m(self, other, on, how, lsuffix, rsuffix, sort)\u001b[0m\n\u001b[0;32m   8133\u001b[0m                     \u001b[0msort\u001b[0m\u001b[1;33m=\u001b[0m\u001b[0msort\u001b[0m\u001b[1;33m,\u001b[0m\u001b[1;33m\u001b[0m\u001b[1;33m\u001b[0m\u001b[0m\n\u001b[0;32m   8134\u001b[0m                 )\n\u001b[1;32m-> 8135\u001b[1;33m             return merge(\n\u001b[0m\u001b[0;32m   8136\u001b[0m                 \u001b[0mself\u001b[0m\u001b[1;33m,\u001b[0m\u001b[1;33m\u001b[0m\u001b[1;33m\u001b[0m\u001b[0m\n\u001b[0;32m   8137\u001b[0m                 \u001b[0mother\u001b[0m\u001b[1;33m,\u001b[0m\u001b[1;33m\u001b[0m\u001b[1;33m\u001b[0m\u001b[0m\n",
      "\u001b[1;32mC:\\ProgramData\\Anaconda3\\lib\\site-packages\\pandas\\core\\reshape\\merge.py\u001b[0m in \u001b[0;36mmerge\u001b[1;34m(left, right, how, on, left_on, right_on, left_index, right_index, sort, suffixes, copy, indicator, validate)\u001b[0m\n\u001b[0;32m     87\u001b[0m         \u001b[0mvalidate\u001b[0m\u001b[1;33m=\u001b[0m\u001b[0mvalidate\u001b[0m\u001b[1;33m,\u001b[0m\u001b[1;33m\u001b[0m\u001b[1;33m\u001b[0m\u001b[0m\n\u001b[0;32m     88\u001b[0m     )\n\u001b[1;32m---> 89\u001b[1;33m     \u001b[1;32mreturn\u001b[0m \u001b[0mop\u001b[0m\u001b[1;33m.\u001b[0m\u001b[0mget_result\u001b[0m\u001b[1;33m(\u001b[0m\u001b[1;33m)\u001b[0m\u001b[1;33m\u001b[0m\u001b[1;33m\u001b[0m\u001b[0m\n\u001b[0m\u001b[0;32m     90\u001b[0m \u001b[1;33m\u001b[0m\u001b[0m\n\u001b[0;32m     91\u001b[0m \u001b[1;33m\u001b[0m\u001b[0m\n",
      "\u001b[1;32mC:\\ProgramData\\Anaconda3\\lib\\site-packages\\pandas\\core\\reshape\\merge.py\u001b[0m in \u001b[0;36mget_result\u001b[1;34m(self)\u001b[0m\n\u001b[0;32m    682\u001b[0m             \u001b[0mself\u001b[0m\u001b[1;33m.\u001b[0m\u001b[0mleft\u001b[0m\u001b[1;33m,\u001b[0m \u001b[0mself\u001b[0m\u001b[1;33m.\u001b[0m\u001b[0mright\u001b[0m \u001b[1;33m=\u001b[0m \u001b[0mself\u001b[0m\u001b[1;33m.\u001b[0m\u001b[0m_indicator_pre_merge\u001b[0m\u001b[1;33m(\u001b[0m\u001b[0mself\u001b[0m\u001b[1;33m.\u001b[0m\u001b[0mleft\u001b[0m\u001b[1;33m,\u001b[0m \u001b[0mself\u001b[0m\u001b[1;33m.\u001b[0m\u001b[0mright\u001b[0m\u001b[1;33m)\u001b[0m\u001b[1;33m\u001b[0m\u001b[1;33m\u001b[0m\u001b[0m\n\u001b[0;32m    683\u001b[0m \u001b[1;33m\u001b[0m\u001b[0m\n\u001b[1;32m--> 684\u001b[1;33m         \u001b[0mjoin_index\u001b[0m\u001b[1;33m,\u001b[0m \u001b[0mleft_indexer\u001b[0m\u001b[1;33m,\u001b[0m \u001b[0mright_indexer\u001b[0m \u001b[1;33m=\u001b[0m \u001b[0mself\u001b[0m\u001b[1;33m.\u001b[0m\u001b[0m_get_join_info\u001b[0m\u001b[1;33m(\u001b[0m\u001b[1;33m)\u001b[0m\u001b[1;33m\u001b[0m\u001b[1;33m\u001b[0m\u001b[0m\n\u001b[0m\u001b[0;32m    685\u001b[0m \u001b[1;33m\u001b[0m\u001b[0m\n\u001b[0;32m    686\u001b[0m         llabels, rlabels = _items_overlap_with_suffix(\n",
      "\u001b[1;32mC:\\ProgramData\\Anaconda3\\lib\\site-packages\\pandas\\core\\reshape\\merge.py\u001b[0m in \u001b[0;36m_get_join_info\u001b[1;34m(self)\u001b[0m\n\u001b[0;32m    894\u001b[0m \u001b[1;33m\u001b[0m\u001b[0m\n\u001b[0;32m    895\u001b[0m         \u001b[1;32mif\u001b[0m \u001b[0mself\u001b[0m\u001b[1;33m.\u001b[0m\u001b[0mleft_index\u001b[0m \u001b[1;32mand\u001b[0m \u001b[0mself\u001b[0m\u001b[1;33m.\u001b[0m\u001b[0mright_index\u001b[0m \u001b[1;32mand\u001b[0m \u001b[0mself\u001b[0m\u001b[1;33m.\u001b[0m\u001b[0mhow\u001b[0m \u001b[1;33m!=\u001b[0m \u001b[1;34m\"asof\"\u001b[0m\u001b[1;33m:\u001b[0m\u001b[1;33m\u001b[0m\u001b[1;33m\u001b[0m\u001b[0m\n\u001b[1;32m--> 896\u001b[1;33m             join_index, left_indexer, right_indexer = left_ax.join(\n\u001b[0m\u001b[0;32m    897\u001b[0m                 \u001b[0mright_ax\u001b[0m\u001b[1;33m,\u001b[0m \u001b[0mhow\u001b[0m\u001b[1;33m=\u001b[0m\u001b[0mself\u001b[0m\u001b[1;33m.\u001b[0m\u001b[0mhow\u001b[0m\u001b[1;33m,\u001b[0m \u001b[0mreturn_indexers\u001b[0m\u001b[1;33m=\u001b[0m\u001b[1;32mTrue\u001b[0m\u001b[1;33m,\u001b[0m \u001b[0msort\u001b[0m\u001b[1;33m=\u001b[0m\u001b[0mself\u001b[0m\u001b[1;33m.\u001b[0m\u001b[0msort\u001b[0m\u001b[1;33m\u001b[0m\u001b[1;33m\u001b[0m\u001b[0m\n\u001b[0;32m    898\u001b[0m             )\n",
      "\u001b[1;32mC:\\ProgramData\\Anaconda3\\lib\\site-packages\\pandas\\core\\indexes\\datetimelike.py\u001b[0m in \u001b[0;36mjoin\u001b[1;34m(self, other, how, level, return_indexers, sort)\u001b[0m\n\u001b[0;32m    891\u001b[0m             )\n\u001b[0;32m    892\u001b[0m \u001b[1;33m\u001b[0m\u001b[0m\n\u001b[1;32m--> 893\u001b[1;33m         \u001b[0mthis\u001b[0m\u001b[1;33m,\u001b[0m \u001b[0mother\u001b[0m \u001b[1;33m=\u001b[0m \u001b[0mself\u001b[0m\u001b[1;33m.\u001b[0m\u001b[0m_maybe_utc_convert\u001b[0m\u001b[1;33m(\u001b[0m\u001b[0mother\u001b[0m\u001b[1;33m)\u001b[0m\u001b[1;33m\u001b[0m\u001b[1;33m\u001b[0m\u001b[0m\n\u001b[0m\u001b[0;32m    894\u001b[0m         return Index.join(\n\u001b[0;32m    895\u001b[0m             \u001b[0mthis\u001b[0m\u001b[1;33m,\u001b[0m\u001b[1;33m\u001b[0m\u001b[1;33m\u001b[0m\u001b[0m\n",
      "\u001b[1;32mC:\\ProgramData\\Anaconda3\\lib\\site-packages\\pandas\\core\\indexes\\datetimes.py\u001b[0m in \u001b[0;36m_maybe_utc_convert\u001b[1;34m(self, other)\u001b[0m\n\u001b[0;32m    411\u001b[0m             \u001b[1;32mif\u001b[0m \u001b[0mself\u001b[0m\u001b[1;33m.\u001b[0m\u001b[0mtz\u001b[0m \u001b[1;32mis\u001b[0m \u001b[1;32mnot\u001b[0m \u001b[1;32mNone\u001b[0m\u001b[1;33m:\u001b[0m\u001b[1;33m\u001b[0m\u001b[1;33m\u001b[0m\u001b[0m\n\u001b[0;32m    412\u001b[0m                 \u001b[1;32mif\u001b[0m \u001b[0mother\u001b[0m\u001b[1;33m.\u001b[0m\u001b[0mtz\u001b[0m \u001b[1;32mis\u001b[0m \u001b[1;32mNone\u001b[0m\u001b[1;33m:\u001b[0m\u001b[1;33m\u001b[0m\u001b[1;33m\u001b[0m\u001b[0m\n\u001b[1;32m--> 413\u001b[1;33m                     \u001b[1;32mraise\u001b[0m \u001b[0mTypeError\u001b[0m\u001b[1;33m(\u001b[0m\u001b[1;34m\"Cannot join tz-naive with tz-aware DatetimeIndex\"\u001b[0m\u001b[1;33m)\u001b[0m\u001b[1;33m\u001b[0m\u001b[1;33m\u001b[0m\u001b[0m\n\u001b[0m\u001b[0;32m    414\u001b[0m             \u001b[1;32melif\u001b[0m \u001b[0mother\u001b[0m\u001b[1;33m.\u001b[0m\u001b[0mtz\u001b[0m \u001b[1;32mis\u001b[0m \u001b[1;32mnot\u001b[0m \u001b[1;32mNone\u001b[0m\u001b[1;33m:\u001b[0m\u001b[1;33m\u001b[0m\u001b[1;33m\u001b[0m\u001b[0m\n\u001b[0;32m    415\u001b[0m                 \u001b[1;32mraise\u001b[0m \u001b[0mTypeError\u001b[0m\u001b[1;33m(\u001b[0m\u001b[1;34m\"Cannot join tz-naive with tz-aware DatetimeIndex\"\u001b[0m\u001b[1;33m)\u001b[0m\u001b[1;33m\u001b[0m\u001b[1;33m\u001b[0m\u001b[0m\n",
      "\u001b[1;31mTypeError\u001b[0m: Cannot join tz-naive with tz-aware DatetimeIndex"
     ]
    }
   ],
   "source": [
    "cur_type = df[(df.type == col) & (df.name == repo)]\n",
    "cur_df = pd.to_datetime(cur_type.created_at)\n",
    "cur_df = pd.DataFrame(cur_df).set_index('created_at')\n",
    "cur_df[col]=1\n",
    "cur_df = cur_df.resample(\"D\").sum()\n",
    "day_df = day_df.join(cur_df,how='outer')\n",
    "day_df = day_df.fillna(0)"
   ]
  },
  {
   "cell_type": "code",
   "execution_count": 309,
   "id": "2c49863b-27e7-4396-bac0-14bccfc0accc",
   "metadata": {},
   "outputs": [
    {
     "data": {
      "text/html": [
       "<div>\n",
       "<style scoped>\n",
       "    .dataframe tbody tr th:only-of-type {\n",
       "        vertical-align: middle;\n",
       "    }\n",
       "\n",
       "    .dataframe tbody tr th {\n",
       "        vertical-align: top;\n",
       "    }\n",
       "\n",
       "    .dataframe thead th {\n",
       "        text-align: right;\n",
       "    }\n",
       "</style>\n",
       "<table border=\"1\" class=\"dataframe\">\n",
       "  <thead>\n",
       "    <tr style=\"text-align: right;\">\n",
       "      <th></th>\n",
       "      <th>CommitCommentEvent</th>\n",
       "      <th>CreateEvent</th>\n",
       "      <th>DeleteEvent</th>\n",
       "      <th>ForkEvent</th>\n",
       "      <th>IssueCommentEvent</th>\n",
       "      <th>IssuesEvent</th>\n",
       "      <th>PullRequestEvent</th>\n",
       "      <th>PullRequestReviewCommentEvent</th>\n",
       "      <th>PushEvent</th>\n",
       "      <th>WatchEvent</th>\n",
       "    </tr>\n",
       "  </thead>\n",
       "  <tbody>\n",
       "  </tbody>\n",
       "</table>\n",
       "</div>"
      ],
      "text/plain": [
       "Empty DataFrame\n",
       "Columns: [CommitCommentEvent, CreateEvent, DeleteEvent, ForkEvent, IssueCommentEvent, IssuesEvent, PullRequestEvent, PullRequestReviewCommentEvent, PushEvent, WatchEvent]\n",
       "Index: []"
      ]
     },
     "execution_count": 309,
     "metadata": {},
     "output_type": "execute_result"
    }
   ],
   "source": [
    "events = ['CommitCommentEvent', 'CreateEvent', 'DeleteEvent', 'ForkEvent',  'IssueCommentEvent',  'IssuesEvent',\n",
    "         'PullRequestEvent', 'PullRequestReviewCommentEvent', 'PushEvent', 'WatchEvent']\n",
    "event_dict = dict()\n",
    "for a in events:\n",
    "    event_dict[a] = []\n",
    "both =  list(repo_commits.keys())[1794]\n",
    "owner,repo = both.split(\"/\") # .index('rust-lang/rust')\n",
    "both,owner,repo\n",
    "with open(f'D:/repo_data4/{owner}_{repo}.json','r') as mfile:\n",
    "    for line in mfile.readlines():\n",
    "        # print(line)\n",
    "        line = ast.literal_eval(line)\n",
    "        cur_json = json.loads(line.decode('utf-8'))\n",
    "        event_dict[cur_json['type']].append(cur_json['created_at'])\n",
    "        \n",
    "events_df=pd.DataFrame.from_dict(event_dict,orient='index').transpose()\n",
    "day_df = pd.DataFrame()\n",
    "for col in events:\n",
    "    if  not df[col].isnull().all():\n",
    "        cur_df = pd.to_datetime(df[col].dropna())\n",
    "        cur_df = pd.DataFrame(cur_df).set_index(col)\n",
    "        cur_df[col]=1\n",
    "        cur_df = cur_df.resample(\"D\").sum()\n",
    "        day_df = day_df.join(cur_df,how='outer')\n",
    "        day_df = day_df.fillna(0)\n",
    "day_df"
   ]
  },
  {
   "cell_type": "code",
   "execution_count": 313,
   "id": "92c3f932-f3ad-452d-9962-1853bffe8a8e",
   "metadata": {},
   "outputs": [
    {
     "data": {
      "text/html": [
       "<div>\n",
       "<style scoped>\n",
       "    .dataframe tbody tr th:only-of-type {\n",
       "        vertical-align: middle;\n",
       "    }\n",
       "\n",
       "    .dataframe tbody tr th {\n",
       "        vertical-align: top;\n",
       "    }\n",
       "\n",
       "    .dataframe thead th {\n",
       "        text-align: right;\n",
       "    }\n",
       "</style>\n",
       "<table border=\"1\" class=\"dataframe\">\n",
       "  <thead>\n",
       "    <tr style=\"text-align: right;\">\n",
       "      <th></th>\n",
       "      <th>CommitCommentEvent</th>\n",
       "      <th>CreateEvent</th>\n",
       "      <th>DeleteEvent</th>\n",
       "      <th>ForkEvent</th>\n",
       "      <th>IssueCommentEvent</th>\n",
       "      <th>IssuesEvent</th>\n",
       "      <th>PullRequestEvent</th>\n",
       "      <th>PullRequestReviewCommentEvent</th>\n",
       "      <th>PushEvent</th>\n",
       "      <th>WatchEvent</th>\n",
       "    </tr>\n",
       "  </thead>\n",
       "  <tbody>\n",
       "    <tr>\n",
       "      <th>2017-05-03 00:00:00+00:00</th>\n",
       "      <td>0.0</td>\n",
       "      <td>0.0</td>\n",
       "      <td>0.0</td>\n",
       "      <td>1.0</td>\n",
       "      <td>111</td>\n",
       "      <td>18</td>\n",
       "      <td>19</td>\n",
       "      <td>9</td>\n",
       "      <td>9</td>\n",
       "      <td>5</td>\n",
       "    </tr>\n",
       "    <tr>\n",
       "      <th>2017-05-04 00:00:00+00:00</th>\n",
       "      <td>0.0</td>\n",
       "      <td>0.0</td>\n",
       "      <td>0.0</td>\n",
       "      <td>6.0</td>\n",
       "      <td>385</td>\n",
       "      <td>72</td>\n",
       "      <td>28</td>\n",
       "      <td>28</td>\n",
       "      <td>14</td>\n",
       "      <td>21</td>\n",
       "    </tr>\n",
       "    <tr>\n",
       "      <th>2017-05-05 00:00:00+00:00</th>\n",
       "      <td>0.0</td>\n",
       "      <td>0.0</td>\n",
       "      <td>0.0</td>\n",
       "      <td>3.0</td>\n",
       "      <td>220</td>\n",
       "      <td>14</td>\n",
       "      <td>24</td>\n",
       "      <td>23</td>\n",
       "      <td>17</td>\n",
       "      <td>20</td>\n",
       "    </tr>\n",
       "    <tr>\n",
       "      <th>2017-05-06 00:00:00+00:00</th>\n",
       "      <td>0.0</td>\n",
       "      <td>0.0</td>\n",
       "      <td>1.0</td>\n",
       "      <td>1.0</td>\n",
       "      <td>182</td>\n",
       "      <td>37</td>\n",
       "      <td>22</td>\n",
       "      <td>13</td>\n",
       "      <td>11</td>\n",
       "      <td>19</td>\n",
       "    </tr>\n",
       "    <tr>\n",
       "      <th>2017-05-07 00:00:00+00:00</th>\n",
       "      <td>0.0</td>\n",
       "      <td>0.0</td>\n",
       "      <td>0.0</td>\n",
       "      <td>1.0</td>\n",
       "      <td>178</td>\n",
       "      <td>39</td>\n",
       "      <td>14</td>\n",
       "      <td>37</td>\n",
       "      <td>18</td>\n",
       "      <td>10</td>\n",
       "    </tr>\n",
       "    <tr>\n",
       "      <th>...</th>\n",
       "      <td>...</td>\n",
       "      <td>...</td>\n",
       "      <td>...</td>\n",
       "      <td>...</td>\n",
       "      <td>...</td>\n",
       "      <td>...</td>\n",
       "      <td>...</td>\n",
       "      <td>...</td>\n",
       "      <td>...</td>\n",
       "      <td>...</td>\n",
       "    </tr>\n",
       "    <tr>\n",
       "      <th>2018-05-07 00:00:00+00:00</th>\n",
       "      <td>0.0</td>\n",
       "      <td>1.0</td>\n",
       "      <td>1.0</td>\n",
       "      <td>6.0</td>\n",
       "      <td>314</td>\n",
       "      <td>24</td>\n",
       "      <td>21</td>\n",
       "      <td>31</td>\n",
       "      <td>23</td>\n",
       "      <td>15</td>\n",
       "    </tr>\n",
       "    <tr>\n",
       "      <th>2018-05-08 00:00:00+00:00</th>\n",
       "      <td>0.0</td>\n",
       "      <td>1.0</td>\n",
       "      <td>0.0</td>\n",
       "      <td>2.0</td>\n",
       "      <td>251</td>\n",
       "      <td>17</td>\n",
       "      <td>25</td>\n",
       "      <td>33</td>\n",
       "      <td>23</td>\n",
       "      <td>22</td>\n",
       "    </tr>\n",
       "    <tr>\n",
       "      <th>2018-05-09 00:00:00+00:00</th>\n",
       "      <td>0.0</td>\n",
       "      <td>0.0</td>\n",
       "      <td>0.0</td>\n",
       "      <td>3.0</td>\n",
       "      <td>335</td>\n",
       "      <td>27</td>\n",
       "      <td>30</td>\n",
       "      <td>37</td>\n",
       "      <td>20</td>\n",
       "      <td>22</td>\n",
       "    </tr>\n",
       "    <tr>\n",
       "      <th>2018-05-10 00:00:00+00:00</th>\n",
       "      <td>0.0</td>\n",
       "      <td>1.0</td>\n",
       "      <td>0.0</td>\n",
       "      <td>8.0</td>\n",
       "      <td>369</td>\n",
       "      <td>28</td>\n",
       "      <td>33</td>\n",
       "      <td>41</td>\n",
       "      <td>21</td>\n",
       "      <td>20</td>\n",
       "    </tr>\n",
       "    <tr>\n",
       "      <th>2018-05-11 00:00:00+00:00</th>\n",
       "      <td>0.0</td>\n",
       "      <td>0.0</td>\n",
       "      <td>0.0</td>\n",
       "      <td>0.0</td>\n",
       "      <td>137</td>\n",
       "      <td>18</td>\n",
       "      <td>10</td>\n",
       "      <td>14</td>\n",
       "      <td>5</td>\n",
       "      <td>6</td>\n",
       "    </tr>\n",
       "  </tbody>\n",
       "</table>\n",
       "<p>374 rows × 10 columns</p>\n",
       "</div>"
      ],
      "text/plain": [
       "                           CommitCommentEvent  CreateEvent  DeleteEvent  \\\n",
       "2017-05-03 00:00:00+00:00                 0.0          0.0          0.0   \n",
       "2017-05-04 00:00:00+00:00                 0.0          0.0          0.0   \n",
       "2017-05-05 00:00:00+00:00                 0.0          0.0          0.0   \n",
       "2017-05-06 00:00:00+00:00                 0.0          0.0          1.0   \n",
       "2017-05-07 00:00:00+00:00                 0.0          0.0          0.0   \n",
       "...                                       ...          ...          ...   \n",
       "2018-05-07 00:00:00+00:00                 0.0          1.0          1.0   \n",
       "2018-05-08 00:00:00+00:00                 0.0          1.0          0.0   \n",
       "2018-05-09 00:00:00+00:00                 0.0          0.0          0.0   \n",
       "2018-05-10 00:00:00+00:00                 0.0          1.0          0.0   \n",
       "2018-05-11 00:00:00+00:00                 0.0          0.0          0.0   \n",
       "\n",
       "                           ForkEvent  IssueCommentEvent  IssuesEvent  \\\n",
       "2017-05-03 00:00:00+00:00        1.0                111           18   \n",
       "2017-05-04 00:00:00+00:00        6.0                385           72   \n",
       "2017-05-05 00:00:00+00:00        3.0                220           14   \n",
       "2017-05-06 00:00:00+00:00        1.0                182           37   \n",
       "2017-05-07 00:00:00+00:00        1.0                178           39   \n",
       "...                              ...                ...          ...   \n",
       "2018-05-07 00:00:00+00:00        6.0                314           24   \n",
       "2018-05-08 00:00:00+00:00        2.0                251           17   \n",
       "2018-05-09 00:00:00+00:00        3.0                335           27   \n",
       "2018-05-10 00:00:00+00:00        8.0                369           28   \n",
       "2018-05-11 00:00:00+00:00        0.0                137           18   \n",
       "\n",
       "                           PullRequestEvent  PullRequestReviewCommentEvent  \\\n",
       "2017-05-03 00:00:00+00:00                19                              9   \n",
       "2017-05-04 00:00:00+00:00                28                             28   \n",
       "2017-05-05 00:00:00+00:00                24                             23   \n",
       "2017-05-06 00:00:00+00:00                22                             13   \n",
       "2017-05-07 00:00:00+00:00                14                             37   \n",
       "...                                     ...                            ...   \n",
       "2018-05-07 00:00:00+00:00                21                             31   \n",
       "2018-05-08 00:00:00+00:00                25                             33   \n",
       "2018-05-09 00:00:00+00:00                30                             37   \n",
       "2018-05-10 00:00:00+00:00                33                             41   \n",
       "2018-05-11 00:00:00+00:00                10                             14   \n",
       "\n",
       "                           PushEvent  WatchEvent  \n",
       "2017-05-03 00:00:00+00:00          9           5  \n",
       "2017-05-04 00:00:00+00:00         14          21  \n",
       "2017-05-05 00:00:00+00:00         17          20  \n",
       "2017-05-06 00:00:00+00:00         11          19  \n",
       "2017-05-07 00:00:00+00:00         18          10  \n",
       "...                              ...         ...  \n",
       "2018-05-07 00:00:00+00:00         23          15  \n",
       "2018-05-08 00:00:00+00:00         23          22  \n",
       "2018-05-09 00:00:00+00:00         20          22  \n",
       "2018-05-10 00:00:00+00:00         21          20  \n",
       "2018-05-11 00:00:00+00:00          5           6  \n",
       "\n",
       "[374 rows x 10 columns]"
      ]
     },
     "execution_count": 313,
     "metadata": {},
     "output_type": "execute_result"
    }
   ],
   "source": [
    "events_df=pd.DataFrame.from_dict(event_dict,orient='index').transpose()\n",
    "day_df = pd.DataFrame()\n",
    "for col in events:\n",
    "    if  not df[col].isnull().all():\n",
    "        cur_df = pd.to_datetime(df[col].dropna())\n",
    "        cur_df = pd.DataFrame(cur_df).set_index(col)\n",
    "        cur_df[col]=1\n",
    "        cur_df = cur_df.resample(\"D\").sum()\n",
    "        day_df = day_df.join(cur_df,how='outer')\n",
    "        day_df = day_df.fillna(0)\n",
    "day_df"
   ]
  },
  {
   "cell_type": "code",
   "execution_count": 255,
   "id": "a9593a6f-dca7-455f-8b67-0ac49ca85d64",
   "metadata": {},
   "outputs": [],
   "source": [
    "commits = df[[\"additions\",\"deletions\",\"commit_date\"]]\n",
    "commits['commit_date']=pd.to_datetime(df['commit_date'])\n",
    "day_df = commits.resample(\"D\",on=\"commit_date\").sum()\n",
    "\n",
    "for col in ['vulnerabilityAlerts', 'forks', 'issues', 'pullRequests', 'releases', 'stargazers']:\n",
    "    if  not df[col].isnull().all():\n",
    "        cur_df = pd.to_datetime(df[col].dropna())\n",
    "        cur_df = pd.DataFrame(cur_df).set_index(col)\n",
    "        cur_df[col]=1\n",
    "        cur_df = cur_df.resample(\"D\").sum()\n",
    "        day_df = day_df.join(cur_df,how='outer')\n",
    "        day_df = day_df.fillna(0)"
   ]
  },
  {
   "cell_type": "code",
   "execution_count": 256,
   "id": "891e0c5a-baa1-46bd-8b56-204369017d80",
   "metadata": {},
   "outputs": [
    {
     "name": "stdout",
     "output_type": "stream",
     "text": [
      "Object `plot` not found.\n"
     ]
    }
   ],
   "source": [
    "repo = filename.split(\".csv\")[0]\n",
    "for key in repo_commits.keys():\n",
    "    if repo == key.split(\"/\")[1]:\n",
    "        cve_dates = [res[1] for res in repo_commits[key]]\n",
    "\n",
    "\n",
    "cur_df = pd.to_datetime(cve_dates)\n",
    "cur_df = pd.DataFrame(cur_df,columns=[\"cve\"]).set_index(\"cve\")\n",
    "cur_df['cve']=1\n",
    "cur_df = cur_df.resample(\"D\").sum()\n",
    "day_df = day_df.join(cur_df)\n",
    "day_df = day_df.fillna(0)\n"
   ]
  },
  {
   "cell_type": "code",
   "execution_count": 260,
   "id": "c9221b93-5add-49ae-9086-0bd252897d96",
   "metadata": {},
   "outputs": [],
   "source": [
    "day_df.to_csv(base+'final/'+filename)"
   ]
  },
  {
   "cell_type": "code",
   "execution_count": null,
   "id": "dda46c74-2576-492a-a758-96478499c41d",
   "metadata": {},
   "outputs": [],
   "source": [
    "day_df['cve'].plot"
   ]
  },
  {
   "cell_type": "code",
   "execution_count": 261,
   "id": "08bbe4d2-08b3-4231-b438-6baa8c184b7a",
   "metadata": {},
   "outputs": [
    {
     "data": {
      "text/html": [
       "<div>\n",
       "<style scoped>\n",
       "    .dataframe tbody tr th:only-of-type {\n",
       "        vertical-align: middle;\n",
       "    }\n",
       "\n",
       "    .dataframe tbody tr th {\n",
       "        vertical-align: top;\n",
       "    }\n",
       "\n",
       "    .dataframe thead th {\n",
       "        text-align: right;\n",
       "    }\n",
       "</style>\n",
       "<table border=\"1\" class=\"dataframe\">\n",
       "  <thead>\n",
       "    <tr style=\"text-align: right;\">\n",
       "      <th></th>\n",
       "      <th>additions</th>\n",
       "      <th>deletions</th>\n",
       "      <th>forks</th>\n",
       "      <th>issues</th>\n",
       "      <th>pullRequests</th>\n",
       "      <th>releases</th>\n",
       "      <th>stargazers</th>\n",
       "      <th>cve</th>\n",
       "    </tr>\n",
       "    <tr>\n",
       "      <th>commit_date</th>\n",
       "      <th></th>\n",
       "      <th></th>\n",
       "      <th></th>\n",
       "      <th></th>\n",
       "      <th></th>\n",
       "      <th></th>\n",
       "      <th></th>\n",
       "      <th></th>\n",
       "    </tr>\n",
       "  </thead>\n",
       "  <tbody>\n",
       "    <tr>\n",
       "      <th>2010-06-16 00:00:00+00:00</th>\n",
       "      <td>886</td>\n",
       "      <td>0</td>\n",
       "      <td>0.0</td>\n",
       "      <td>0.0</td>\n",
       "      <td>0.0</td>\n",
       "      <td>0.0</td>\n",
       "      <td>823</td>\n",
       "      <td>0.0</td>\n",
       "    </tr>\n",
       "    <tr>\n",
       "      <th>2010-06-17 00:00:00+00:00</th>\n",
       "      <td>0</td>\n",
       "      <td>0</td>\n",
       "      <td>0.0</td>\n",
       "      <td>0.0</td>\n",
       "      <td>0.0</td>\n",
       "      <td>0.0</td>\n",
       "      <td>1</td>\n",
       "      <td>0.0</td>\n",
       "    </tr>\n",
       "    <tr>\n",
       "      <th>2010-06-18 00:00:00+00:00</th>\n",
       "      <td>0</td>\n",
       "      <td>0</td>\n",
       "      <td>0.0</td>\n",
       "      <td>0.0</td>\n",
       "      <td>0.0</td>\n",
       "      <td>0.0</td>\n",
       "      <td>2</td>\n",
       "      <td>0.0</td>\n",
       "    </tr>\n",
       "    <tr>\n",
       "      <th>2010-06-19 00:00:00+00:00</th>\n",
       "      <td>0</td>\n",
       "      <td>0</td>\n",
       "      <td>0.0</td>\n",
       "      <td>0.0</td>\n",
       "      <td>0.0</td>\n",
       "      <td>0.0</td>\n",
       "      <td>1</td>\n",
       "      <td>0.0</td>\n",
       "    </tr>\n",
       "    <tr>\n",
       "      <th>2010-06-20 00:00:00+00:00</th>\n",
       "      <td>0</td>\n",
       "      <td>0</td>\n",
       "      <td>0.0</td>\n",
       "      <td>0.0</td>\n",
       "      <td>0.0</td>\n",
       "      <td>0.0</td>\n",
       "      <td>2</td>\n",
       "      <td>0.0</td>\n",
       "    </tr>\n",
       "    <tr>\n",
       "      <th>...</th>\n",
       "      <td>...</td>\n",
       "      <td>...</td>\n",
       "      <td>...</td>\n",
       "      <td>...</td>\n",
       "      <td>...</td>\n",
       "      <td>...</td>\n",
       "      <td>...</td>\n",
       "      <td>...</td>\n",
       "    </tr>\n",
       "    <tr>\n",
       "      <th>2022-02-02 00:00:00+00:00</th>\n",
       "      <td>2874</td>\n",
       "      <td>1263</td>\n",
       "      <td>3.0</td>\n",
       "      <td>14.0</td>\n",
       "      <td>26.0</td>\n",
       "      <td>0.0</td>\n",
       "      <td>35</td>\n",
       "      <td>0.0</td>\n",
       "    </tr>\n",
       "    <tr>\n",
       "      <th>2022-02-03 00:00:00+00:00</th>\n",
       "      <td>1511</td>\n",
       "      <td>759</td>\n",
       "      <td>4.0</td>\n",
       "      <td>11.0</td>\n",
       "      <td>20.0</td>\n",
       "      <td>0.0</td>\n",
       "      <td>35</td>\n",
       "      <td>0.0</td>\n",
       "    </tr>\n",
       "    <tr>\n",
       "      <th>2022-02-04 00:00:00+00:00</th>\n",
       "      <td>1294</td>\n",
       "      <td>660</td>\n",
       "      <td>4.0</td>\n",
       "      <td>7.0</td>\n",
       "      <td>22.0</td>\n",
       "      <td>0.0</td>\n",
       "      <td>38</td>\n",
       "      <td>0.0</td>\n",
       "    </tr>\n",
       "    <tr>\n",
       "      <th>2022-02-05 00:00:00+00:00</th>\n",
       "      <td>918</td>\n",
       "      <td>406</td>\n",
       "      <td>7.0</td>\n",
       "      <td>5.0</td>\n",
       "      <td>13.0</td>\n",
       "      <td>0.0</td>\n",
       "      <td>32</td>\n",
       "      <td>0.0</td>\n",
       "    </tr>\n",
       "    <tr>\n",
       "      <th>2022-02-06 00:00:00+00:00</th>\n",
       "      <td>1551</td>\n",
       "      <td>348</td>\n",
       "      <td>5.0</td>\n",
       "      <td>14.0</td>\n",
       "      <td>22.0</td>\n",
       "      <td>0.0</td>\n",
       "      <td>45</td>\n",
       "      <td>0.0</td>\n",
       "    </tr>\n",
       "  </tbody>\n",
       "</table>\n",
       "<p>4254 rows × 8 columns</p>\n",
       "</div>"
      ],
      "text/plain": [
       "                           additions  deletions  forks  issues  pullRequests  \\\n",
       "commit_date                                                                    \n",
       "2010-06-16 00:00:00+00:00        886          0    0.0     0.0           0.0   \n",
       "2010-06-17 00:00:00+00:00          0          0    0.0     0.0           0.0   \n",
       "2010-06-18 00:00:00+00:00          0          0    0.0     0.0           0.0   \n",
       "2010-06-19 00:00:00+00:00          0          0    0.0     0.0           0.0   \n",
       "2010-06-20 00:00:00+00:00          0          0    0.0     0.0           0.0   \n",
       "...                              ...        ...    ...     ...           ...   \n",
       "2022-02-02 00:00:00+00:00       2874       1263    3.0    14.0          26.0   \n",
       "2022-02-03 00:00:00+00:00       1511        759    4.0    11.0          20.0   \n",
       "2022-02-04 00:00:00+00:00       1294        660    4.0     7.0          22.0   \n",
       "2022-02-05 00:00:00+00:00        918        406    7.0     5.0          13.0   \n",
       "2022-02-06 00:00:00+00:00       1551        348    5.0    14.0          22.0   \n",
       "\n",
       "                           releases  stargazers  cve  \n",
       "commit_date                                           \n",
       "2010-06-16 00:00:00+00:00       0.0         823  0.0  \n",
       "2010-06-17 00:00:00+00:00       0.0           1  0.0  \n",
       "2010-06-18 00:00:00+00:00       0.0           2  0.0  \n",
       "2010-06-19 00:00:00+00:00       0.0           1  0.0  \n",
       "2010-06-20 00:00:00+00:00       0.0           2  0.0  \n",
       "...                             ...         ...  ...  \n",
       "2022-02-02 00:00:00+00:00       0.0          35  0.0  \n",
       "2022-02-03 00:00:00+00:00       0.0          35  0.0  \n",
       "2022-02-04 00:00:00+00:00       0.0          38  0.0  \n",
       "2022-02-05 00:00:00+00:00       0.0          32  0.0  \n",
       "2022-02-06 00:00:00+00:00       0.0          45  0.0  \n",
       "\n",
       "[4254 rows x 8 columns]"
      ]
     },
     "execution_count": 261,
     "metadata": {},
     "output_type": "execute_result"
    }
   ],
   "source": [
    "day_df"
   ]
  },
  {
   "cell_type": "code",
   "execution_count": 53,
   "id": "af1d7f04-c0f0-4740-a4fa-8dfbc3206353",
   "metadata": {},
   "outputs": [
    {
     "data": {
      "text/plain": [
       "<AxesSubplot:xlabel='date'>"
      ]
     },
     "execution_count": 53,
     "metadata": {},
     "output_type": "execute_result"
    },
    {
     "data": {
      "image/png": "[encoded data removed]",
      "text/plain": [
       "<Figure size 432x288 with 1 Axes>"
      ]
     },
     "metadata": {
      "needs_background": "light"
     },
     "output_type": "display_data"
    }
   ],
   "source": [
    "commits.resample(\"D\",on='date').sum().plot()"
   ]
  },
  {
   "cell_type": "code",
   "execution_count": 56,
   "id": "f2b36f3a-d1e7-412c-8a91-8da1e8e42d45",
   "metadata": {},
   "outputs": [],
   "source": []
  },
  {
   "cell_type": "code",
   "execution_count": 64,
   "id": "bea473d1-9f69-4b27-849f-e688ddeab721",
   "metadata": {},
   "outputs": [],
   "source": []
  },
  {
   "cell_type": "code",
   "execution_count": 82,
   "id": "1e7e334a-f94e-4285-a7ce-5f3708696a82",
   "metadata": {},
   "outputs": [],
   "source": [
    "vulns = pd.DataFrame([a[1] for a in found[1]],columns=['vuln'])"
   ]
  },
  {
   "cell_type": "code",
   "execution_count": 90,
   "id": "c7be6cae-631e-4b98-be69-9a90ac5b1d8d",
   "metadata": {},
   "outputs": [],
   "source": [
    "vulns['found']=1"
   ]
  },
  {
   "cell_type": "code",
   "execution_count": 88,
   "id": "4fcf2a50-7ba5-4bca-a2de-24a723bd6193",
   "metadata": {},
   "outputs": [],
   "source": [
    "vulns[\"vuln\"] =  pd.to_datetime(vulns[\"vuln\"]).dt.floor('H')"
   ]
  },
  {
   "cell_type": "markdown",
   "id": "6259c9d3-e823-4452-b3a3-2dbdf7a1236b",
   "metadata": {},
   "source": [
    "commits"
   ]
  },
  {
   "cell_type": "code",
   "execution_count": 92,
   "id": "d961cc53-6707-4e1d-9771-3f370f8049df",
   "metadata": {},
   "outputs": [],
   "source": [
    "new_commits = commits.resample(\"D\",on='date').sum()"
   ]
  },
  {
   "cell_type": "code",
   "execution_count": 101,
   "id": "d508ed99-fc86-4d45-b5e7-c8ee5dec15ad",
   "metadata": {},
   "outputs": [
    {
     "ename": "MergeError",
     "evalue": "Must pass \"right_on\" OR \"right_index\".",
     "output_type": "error",
     "traceback": [
      "\u001b[1;31m---------------------------------------------------------------------------\u001b[0m",
      "\u001b[1;31mMergeError\u001b[0m                                Traceback (most recent call last)",
      "\u001b[1;32m<ipython-input-101-cb2b7df8e352>\u001b[0m in \u001b[0;36m<module>\u001b[1;34m\u001b[0m\n\u001b[1;32m----> 1\u001b[1;33m \u001b[0mpd\u001b[0m\u001b[1;33m.\u001b[0m\u001b[0mmerge\u001b[0m\u001b[1;33m(\u001b[0m\u001b[0mnew_commits\u001b[0m\u001b[1;33m,\u001b[0m\u001b[0mvulns\u001b[0m\u001b[1;33m,\u001b[0m \u001b[0mleft_on\u001b[0m\u001b[1;33m=\u001b[0m\u001b[1;34m'date'\u001b[0m\u001b[1;33m)\u001b[0m\u001b[1;33m\u001b[0m\u001b[1;33m\u001b[0m\u001b[0m\n\u001b[0m",
      "\u001b[1;32mC:\\ProgramData\\Anaconda3\\lib\\site-packages\\pandas\\core\\reshape\\merge.py\u001b[0m in \u001b[0;36mmerge\u001b[1;34m(left, right, how, on, left_on, right_on, left_index, right_index, sort, suffixes, copy, indicator, validate)\u001b[0m\n\u001b[0;32m     72\u001b[0m     \u001b[0mvalidate\u001b[0m\u001b[1;33m=\u001b[0m\u001b[1;32mNone\u001b[0m\u001b[1;33m,\u001b[0m\u001b[1;33m\u001b[0m\u001b[1;33m\u001b[0m\u001b[0m\n\u001b[0;32m     73\u001b[0m ) -> \"DataFrame\":\n\u001b[1;32m---> 74\u001b[1;33m     op = _MergeOperation(\n\u001b[0m\u001b[0;32m     75\u001b[0m         \u001b[0mleft\u001b[0m\u001b[1;33m,\u001b[0m\u001b[1;33m\u001b[0m\u001b[1;33m\u001b[0m\u001b[0m\n\u001b[0;32m     76\u001b[0m         \u001b[0mright\u001b[0m\u001b[1;33m,\u001b[0m\u001b[1;33m\u001b[0m\u001b[1;33m\u001b[0m\u001b[0m\n",
      "\u001b[1;32mC:\\ProgramData\\Anaconda3\\lib\\site-packages\\pandas\\core\\reshape\\merge.py\u001b[0m in \u001b[0;36m__init__\u001b[1;34m(self, left, right, how, on, left_on, right_on, axis, left_index, right_index, sort, suffixes, copy, indicator, validate)\u001b[0m\n\u001b[0;32m    648\u001b[0m             \u001b[0mwarnings\u001b[0m\u001b[1;33m.\u001b[0m\u001b[0mwarn\u001b[0m\u001b[1;33m(\u001b[0m\u001b[0mmsg\u001b[0m\u001b[1;33m,\u001b[0m \u001b[0mUserWarning\u001b[0m\u001b[1;33m)\u001b[0m\u001b[1;33m\u001b[0m\u001b[1;33m\u001b[0m\u001b[0m\n\u001b[0;32m    649\u001b[0m \u001b[1;33m\u001b[0m\u001b[0m\n\u001b[1;32m--> 650\u001b[1;33m         \u001b[0mself\u001b[0m\u001b[1;33m.\u001b[0m\u001b[0m_validate_specification\u001b[0m\u001b[1;33m(\u001b[0m\u001b[1;33m)\u001b[0m\u001b[1;33m\u001b[0m\u001b[1;33m\u001b[0m\u001b[0m\n\u001b[0m\u001b[0;32m    651\u001b[0m \u001b[1;33m\u001b[0m\u001b[0m\n\u001b[0;32m    652\u001b[0m         \u001b[0mcross_col\u001b[0m \u001b[1;33m=\u001b[0m \u001b[1;32mNone\u001b[0m\u001b[1;33m\u001b[0m\u001b[1;33m\u001b[0m\u001b[0m\n",
      "\u001b[1;32mC:\\ProgramData\\Anaconda3\\lib\\site-packages\\pandas\\core\\reshape\\merge.py\u001b[0m in \u001b[0;36m_validate_specification\u001b[1;34m(self)\u001b[0m\n\u001b[0;32m   1312\u001b[0m                 )\n\u001b[0;32m   1313\u001b[0m             \u001b[1;32mif\u001b[0m \u001b[1;32mnot\u001b[0m \u001b[0mself\u001b[0m\u001b[1;33m.\u001b[0m\u001b[0mright_index\u001b[0m \u001b[1;32mand\u001b[0m \u001b[0mself\u001b[0m\u001b[1;33m.\u001b[0m\u001b[0mright_on\u001b[0m \u001b[1;32mis\u001b[0m \u001b[1;32mNone\u001b[0m\u001b[1;33m:\u001b[0m\u001b[1;33m\u001b[0m\u001b[1;33m\u001b[0m\u001b[0m\n\u001b[1;32m-> 1314\u001b[1;33m                 \u001b[1;32mraise\u001b[0m \u001b[0mMergeError\u001b[0m\u001b[1;33m(\u001b[0m\u001b[1;34m'Must pass \"right_on\" OR \"right_index\".'\u001b[0m\u001b[1;33m)\u001b[0m\u001b[1;33m\u001b[0m\u001b[1;33m\u001b[0m\u001b[0m\n\u001b[0m\u001b[0;32m   1315\u001b[0m             \u001b[0mn\u001b[0m \u001b[1;33m=\u001b[0m \u001b[0mlen\u001b[0m\u001b[1;33m(\u001b[0m\u001b[0mself\u001b[0m\u001b[1;33m.\u001b[0m\u001b[0mleft_on\u001b[0m\u001b[1;33m)\u001b[0m\u001b[1;33m\u001b[0m\u001b[1;33m\u001b[0m\u001b[0m\n\u001b[0;32m   1316\u001b[0m             \u001b[1;32mif\u001b[0m \u001b[0mself\u001b[0m\u001b[1;33m.\u001b[0m\u001b[0mright_index\u001b[0m\u001b[1;33m:\u001b[0m\u001b[1;33m\u001b[0m\u001b[1;33m\u001b[0m\u001b[0m\n",
      "\u001b[1;31mMergeError\u001b[0m: Must pass \"right_on\" OR \"right_index\"."
     ]
    }
   ],
   "source": [
    "pd.merge(new_commits,vulns, left_on='date')"
   ]
  },
  {
   "cell_type": "code",
   "execution_count": 97,
   "id": "7ae25172-900b-48c6-bc3f-fe4ef80d8abe",
   "metadata": {},
   "outputs": [],
   "source": [
    "vulns['date']=vulns['vuln']"
   ]
  },
  {
   "cell_type": "code",
   "execution_count": 106,
   "id": "b8778194-43ea-44af-96d6-7c8a61c4e334",
   "metadata": {},
   "outputs": [
    {
     "data": {
      "text/plain": [
       "<AxesSubplot:xlabel='date'>"
      ]
     },
     "execution_count": 106,
     "metadata": {},
     "output_type": "execute_result"
    },
    {
     "data": {
      "image/png": "[encoded data removed]",
      "text/plain": [
       "<Figure size 432x288 with 1 Axes>"
      ]
     },
     "metadata": {
      "needs_background": "light"
     },
     "output_type": "display_data"
    }
   ],
   "source": [
    "new_commits.join(vulns,how='outer').plot()"
   ]
  },
  {
   "cell_type": "code",
   "execution_count": 104,
   "id": "4c12afab-9aa5-44b4-a32e-331d4535c93a",
   "metadata": {},
   "outputs": [],
   "source": [
    "vulns= vulns.set_index('date')"
   ]
  },
  {
   "cell_type": "code",
   "execution_count": 116,
   "id": "c0222c13-ed82-4eb8-949f-52b936ce955e",
   "metadata": {},
   "outputs": [],
   "source": [
    "merged = new_commits.join(vulns,how='outer')"
   ]
  },
  {
   "cell_type": "code",
   "execution_count": 124,
   "id": "8862559a-81cf-4d45-9144-ef22b5c4d77e",
   "metadata": {},
   "outputs": [
    {
     "data": {
      "text/plain": [
       "date\n",
       "2010-06-16 00:00:00+00:00   NaT\n",
       "2010-06-17 00:00:00+00:00   NaT\n",
       "2010-06-18 00:00:00+00:00   NaT\n",
       "2010-06-19 00:00:00+00:00   NaT\n",
       "2010-06-20 00:00:00+00:00   NaT\n",
       "                             ..\n",
       "2022-02-02 00:00:00+00:00   NaT\n",
       "2022-02-03 00:00:00+00:00   NaT\n",
       "2022-02-04 00:00:00+00:00   NaT\n",
       "2022-02-05 00:00:00+00:00   NaT\n",
       "2022-02-06 00:00:00+00:00   NaT\n",
       "Name: vuln, Length: 4270, dtype: datetime64[ns, UTC]"
      ]
     },
     "execution_count": 124,
     "metadata": {},
     "output_type": "execute_result"
    }
   ],
   "source": [
    "merged.vuln\n"
   ]
  },
  {
   "cell_type": "code",
   "execution_count": 125,
   "id": "3274417b-a4dd-45a9-bca8-84eb789655e9",
   "metadata": {},
   "outputs": [
    {
     "name": "stderr",
     "output_type": "stream",
     "text": [
      "C:\\ProgramData\\Anaconda3\\lib\\site-packages\\pandas\\core\\indexing.py:1637: SettingWithCopyWarning: \n",
      "A value is trying to be set on a copy of a slice from a DataFrame\n",
      "\n",
      "See the caveats in the documentation: https://pandas.pydata.org/pandas-docs/stable/user_guide/indexing.html#returning-a-view-versus-a-copy\n",
      "  self._setitem_single_block(indexer, value, name)\n"
     ]
    }
   ],
   "source": [
    "merged.vuln.loc[~merged.vuln.isnull()] = 1  # not nan\n",
    "merged.vuln.loc[merged.vuln.isnull()] = 0   # nan"
   ]
  },
  {
   "cell_type": "code",
   "execution_count": null,
   "id": "5b7248fc-722a-4353-b928-d089bff4b4c4",
   "metadata": {},
   "outputs": [],
   "source": []
  }
 ],
 "metadata": {
  "kernelspec": {
   "display_name": "Python 3",
   "language": "python",
   "name": "python3"
  },
  "language_info": {
   "codemirror_mode": {
    "name": "ipython",
    "version": 3
   },
   "file_extension": ".py",
   "mimetype": "text/x-python",
   "name": "python",
   "nbconvert_exporter": "python",
   "pygments_lexer": "ipython3",
   "version": "3.8.8"
  }
 },
 "nbformat": 4,
 "nbformat_minor": 5
}
